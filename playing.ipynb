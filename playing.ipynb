{
 "cells": [
  {
   "cell_type": "markdown",
   "id": "processed-earthquake",
   "metadata": {},
   "source": [
    "# Divertiamoci un po' con numpy\n",
    "\n",
    "Ci sono diverse cose necessarie da sapere per iniziare ad usare numpy in maniera efficace. Non voglio fare una lista lunga e noiosa di funzionalità, ma cercherò di mostrare le caratteristiche di questa potente libreria attraverso esempi.\n",
    "\n",
    "- come creare vari tipi di array \n",
    "- come effettuare operazioni vettorizzate\n",
    "- come effettuare operazioni algebriche standard tra array"
   ]
  },
  {
   "cell_type": "markdown",
   "id": "silver-consultation",
   "metadata": {},
   "source": [
    "## Calcolo e grafico di un polinomio\n",
    "\n",
    "Consideriamo un polinomio, per esempio\n",
    "$$\n",
    "x^3 - 2x^2 +7x +2\n",
    "$$\n",
    "e diciamo che vogliamo calcolare il suo valore in un intervallo che va da -10 a 10, su 1000 punti equidistanti in questo intervallo.\n",
    "\n",
    "Questa cosa si può fare in due passi:\n",
    "1. costruire un array con tutti i punti -10, -9.99, -9.98, ..., 9.97, 9.98, 9.99, 10.\n",
    "2. calcolare su ognuno di essi il valore del polinomio\n",
    "\n",
    "### Step 1: usiamo `linspace`\n",
    "\n",
    "Crea una sequenza di valori equidistanti da un inizio ad una fine, inclusi.\n"
   ]
  },
  {
   "cell_type": "code",
   "execution_count": 2,
   "id": "potential-weather",
   "metadata": {},
   "outputs": [],
   "source": [
    "import numpy as np"
   ]
  },
  {
   "cell_type": "code",
   "execution_count": 2,
   "id": "retained-converter",
   "metadata": {},
   "outputs": [
    {
     "name": "stdout",
     "output_type": "stream",
     "text": [
      "[-10.          -9.97997998  -9.95995996  -9.93993994  -9.91991992\n",
      "  -9.8998999   -9.87987988  -9.85985986  -9.83983984  -9.81981982\n",
      "  -9.7997998   -9.77977978  -9.75975976  -9.73973974  -9.71971972\n",
      "  -9.6996997   -9.67967968  -9.65965966  -9.63963964  -9.61961962\n",
      "  -9.5995996   -9.57957958  -9.55955956  -9.53953954  -9.51951952\n",
      "  -9.4994995   -9.47947948  -9.45945946  -9.43943944  -9.41941942]\n",
      "[ 9.41941942  9.43943944  9.45945946  9.47947948  9.4994995   9.51951952\n",
      "  9.53953954  9.55955956  9.57957958  9.5995996   9.61961962  9.63963964\n",
      "  9.65965966  9.67967968  9.6996997   9.71971972  9.73973974  9.75975976\n",
      "  9.77977978  9.7997998   9.81981982  9.83983984  9.85985986  9.87987988\n",
      "  9.8998999   9.91991992  9.93993994  9.95995996  9.97997998 10.        ]\n"
     ]
    }
   ],
   "source": [
    "x = np.linspace(-10,10,1000)\n",
    "print(x[:30])  # I primi trenta valori\n",
    "print(x[-30:]) # gli ultimi trenta valori"
   ]
  },
  {
   "cell_type": "markdown",
   "id": "adjustable-freight",
   "metadata": {},
   "source": [
    "### Step 2: calcoliamo il valore del polinomio su tutti questi punti\n",
    "\n",
    "Usiamo operazioni che vengono applicate **in parallelo** a tutti gli elementi di un array.\n",
    "\n"
   ]
  },
  {
   "cell_type": "code",
   "execution_count": 3,
   "id": "driving-excitement",
   "metadata": {},
   "outputs": [],
   "source": [
    "y = x**3 - 2*x**2 + 7*x + 2"
   ]
  },
  {
   "cell_type": "code",
   "execution_count": 5,
   "id": "indian-penny",
   "metadata": {},
   "outputs": [
    {
     "data": {
      "text/plain": [
       "[<matplotlib.lines.Line2D at 0x7f673774fc88>]"
      ]
     },
     "execution_count": 5,
     "metadata": {},
     "output_type": "execute_result"
    },
    {
     "data": {
      "image/png": "[encoded data removed]",
      "text/plain": [
       "<Figure size 432x288 with 1 Axes>"
      ]
     },
     "metadata": {
      "needs_background": "light"
     },
     "output_type": "display_data"
    }
   ],
   "source": [
    "import matplotlib.pyplot as plt\n",
    "\n",
    "plt.plot(x,y)"
   ]
  },
  {
   "cell_type": "markdown",
   "id": "north-federation",
   "metadata": {},
   "source": [
    "### Come è stato effettuato il calcolo dei valori del polinomio?\n",
    "\n",
    "Quello che è successo è che tutte le operazioni di \n",
    "- esponenziazione\n",
    "- moltiplicazione per un numero\n",
    "- somma\n",
    "\n",
    "all'interno dell'espressione `x**3 - 2*x**2 + 7*x + 2` sono state effettuate simultaneamente sull'array.\n",
    "\n",
    "Vediamo tutti i dettagli usando un array più piccolo:"
   ]
  },
  {
   "cell_type": "code",
   "execution_count": 31,
   "id": "ecological-capital",
   "metadata": {},
   "outputs": [
    {
     "data": {
      "text/plain": [
       "array([1, 2, 3, 4, 5, 6])"
      ]
     },
     "execution_count": 31,
     "metadata": {},
     "output_type": "execute_result"
    }
   ],
   "source": [
    "x = np.array([1,2,3,4,5,6])\n",
    "x"
   ]
  },
  {
   "cell_type": "code",
   "execution_count": 32,
   "id": "positive-warner",
   "metadata": {},
   "outputs": [
    {
     "data": {
      "text/plain": [
       "array([  1,   8,  27,  64, 125, 216])"
      ]
     },
     "execution_count": 32,
     "metadata": {},
     "output_type": "execute_result"
    }
   ],
   "source": [
    "A = x**3  # elevazione alla 3a\n",
    "A"
   ]
  },
  {
   "cell_type": "code",
   "execution_count": 34,
   "id": "beginning-nightmare",
   "metadata": {},
   "outputs": [
    {
     "data": {
      "text/plain": [
       "array([ 1,  4,  9, 16, 25, 36])"
      ]
     },
     "execution_count": 34,
     "metadata": {},
     "output_type": "execute_result"
    }
   ],
   "source": [
    "B = x**2 # elevazione alla 2a\n",
    "B"
   ]
  },
  {
   "cell_type": "code",
   "execution_count": 35,
   "id": "following-result",
   "metadata": {},
   "outputs": [
    {
     "data": {
      "text/plain": [
       "array([ -2,  -8, -18, -32, -50, -72])"
      ]
     },
     "execution_count": 35,
     "metadata": {},
     "output_type": "execute_result"
    }
   ],
   "source": [
    "C = -2 * B   # moltiplicazione per uno scalare\n",
    "C"
   ]
  },
  {
   "cell_type": "code",
   "execution_count": 37,
   "id": "regulation-white",
   "metadata": {},
   "outputs": [
    {
     "data": {
      "text/plain": [
       "array([ 7, 14, 21, 28, 35, 42])"
      ]
     },
     "execution_count": 37,
     "metadata": {},
     "output_type": "execute_result"
    }
   ],
   "source": [
    "D = 7*x     # moltiplicazione per uno scalare\n",
    "D"
   ]
  },
  {
   "cell_type": "code",
   "execution_count": 47,
   "id": "obvious-bachelor",
   "metadata": {},
   "outputs": [
    {
     "data": {
      "text/plain": [
       "array([  6,  14,  30,  60, 110, 186])"
      ]
     },
     "execution_count": 47,
     "metadata": {},
     "output_type": "execute_result"
    }
   ],
   "source": [
    "E = A + C + D # sommo i vettori\n",
    "E"
   ]
  },
  {
   "cell_type": "code",
   "execution_count": 48,
   "id": "planned-dealing",
   "metadata": {},
   "outputs": [
    {
     "data": {
      "text/plain": [
       "array([  8,  16,  32,  62, 112, 188])"
      ]
     },
     "execution_count": 48,
     "metadata": {},
     "output_type": "execute_result"
    }
   ],
   "source": [
    "F = E + 2   # sottrazione di una costante\n",
    "F"
   ]
  },
  {
   "cell_type": "code",
   "execution_count": 45,
   "id": "proper-partner",
   "metadata": {},
   "outputs": [
    {
     "data": {
      "text/plain": [
       "array([  8,  16,  32,  62, 112, 188])"
      ]
     },
     "execution_count": 45,
     "metadata": {},
     "output_type": "execute_result"
    }
   ],
   "source": [
    "y = x**3 - 2*x**2 + 7*x + 2\n",
    "y"
   ]
  },
  {
   "cell_type": "markdown",
   "id": "assisted-protection",
   "metadata": {},
   "source": [
    "## Vettorizzazione di una funzione qualunque\n",
    " \n",
    "Per ogni operazione algebrica viene creato un intero nuovo array con i valori temporanei. Questo non e necessariamente un problema se l'array non è troppo grande. E potrebbe risultare anche più efficiente in certi casi.\n",
    "\n",
    "Tuttavia è possibile costruire una funzione python che calcoli direttamente il risultato e che, allo stesso modo degli operatori algebrici, venga applicato in parallelo a tutti gli elementi del vettore. "
   ]
  },
  {
   "cell_type": "code",
   "execution_count": 8,
   "id": "psychological-crime",
   "metadata": {},
   "outputs": [],
   "source": [
    "import numpy as np\n",
    "\n",
    "def polinomio(x):\n",
    "    return x**3 - 2*x**2 + 7*x + 2\n",
    "\n",
    "polinomio = np.vectorize(polinomio)"
   ]
  },
  {
   "cell_type": "code",
   "execution_count": 9,
   "id": "parental-sending",
   "metadata": {},
   "outputs": [],
   "source": [
    "x = np.linspace(-10,10,1000)\n",
    "y = polinomio(x)"
   ]
  },
  {
   "cell_type": "code",
   "execution_count": 5,
   "id": "quarterly-bidder",
   "metadata": {},
   "outputs": [
    {
     "data": {
      "text/plain": [
       "numpy.ndarray"
      ]
     },
     "execution_count": 5,
     "metadata": {},
     "output_type": "execute_result"
    }
   ],
   "source": [
    "type(y)"
   ]
  },
  {
   "cell_type": "code",
   "execution_count": 10,
   "id": "younger-maker",
   "metadata": {},
   "outputs": [
    {
     "data": {
      "text/plain": [
       "[<matplotlib.lines.Line2D at 0x7f6848004d90>]"
      ]
     },
     "execution_count": 10,
     "metadata": {},
     "output_type": "execute_result"
    },
    {
     "data": {
      "image/png": "[encoded data removed]",
      "text/plain": [
       "<Figure size 432x288 with 1 Axes>"
      ]
     },
     "metadata": {
      "needs_background": "light"
     },
     "output_type": "display_data"
    }
   ],
   "source": [
    "import matplotlib.pyplot as plt\n",
    "\n",
    "plt.plot(x,y)"
   ]
  },
  {
   "cell_type": "code",
   "execution_count": 11,
   "id": "engaging-error",
   "metadata": {},
   "outputs": [],
   "source": [
    "def f(value):\n",
    "    return round(value)+2\n",
    "\n",
    "fvect = np.vectorize(f)"
   ]
  },
  {
   "cell_type": "code",
   "execution_count": 12,
   "id": "confident-creek",
   "metadata": {},
   "outputs": [],
   "source": [
    "y = fvect(x)"
   ]
  },
  {
   "cell_type": "code",
   "execution_count": 13,
   "id": "comparative-bible",
   "metadata": {},
   "outputs": [
    {
     "data": {
      "text/plain": [
       "[<matplotlib.lines.Line2D at 0x7f6847fe7d00>]"
      ]
     },
     "execution_count": 13,
     "metadata": {},
     "output_type": "execute_result"
    },
    {
     "data": {
      "image/png": "[encoded data removed]",
      "text/plain": [
       "<Figure size 432x288 with 1 Axes>"
      ]
     },
     "metadata": {
      "needs_background": "light"
     },
     "output_type": "display_data"
    }
   ],
   "source": [
    "plt.plot(x,y)"
   ]
  },
  {
   "cell_type": "code",
   "execution_count": null,
   "id": "instant-anatomy",
   "metadata": {},
   "outputs": [],
   "source": []
  }
 ],
 "metadata": {
  "kernelspec": {
   "display_name": "Python 3",
   "language": "python",
   "name": "python3"
  },
  "language_info": {
   "codemirror_mode": {
    "name": "ipython",
    "version": 3
   },
   "file_extension": ".py",
   "mimetype": "text/x-python",
   "name": "python",
   "nbconvert_exporter": "python",
   "pygments_lexer": "ipython3",
   "version": "3.9.1"
  }
 },
 "nbformat": 4,
 "nbformat_minor": 5
}
