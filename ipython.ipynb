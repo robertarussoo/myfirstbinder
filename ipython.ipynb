{
 "cells": [
  {
   "cell_type": "markdown",
   "id": "26550d42",
   "metadata": {},
   "source": [
    "# IPython\n",
    "\n",
    "È un ambiente interattvo python simile a quello che si ottiene digitando `python` nel terminale. Lo scopo di `IPython` è di fornire un ambiente più comodo e potente per la sperimentazione. IPython non è soltanto un ambiente più potente del normale interprete python, ma è anche la base su cui è stato costruito `Jupyter`.\n",
    "\n",
    "\n",
    "## IPython vs Jupyter\n",
    "\n",
    "\n",
    "IPython nasce come programma per terminale, al quale poi si è aggiunto un ambiente di lavoro basato su browser web come quello che state vedendo ora. L'interfaccia web basata sui fogli lavoro (i.e. *notebook*) faceva parte del progetto IPython, e adesso è un progetto indipendente che supporta anche altri linguaggi di programmazione, come R o Julia. Quando lavorate in python all'interno di `Jupyter` in effetti state usando `IPython`.\n",
    "\n",
    "\n",
    "\n",
    "## Confronto tra python e ipython\n",
    "\n",
    "Adesso vedremo alcune delle sue caratteristiche, mettendo a confronto l'interprete interattivo standard e l'interprete IPython. Possiamo aprire due finestre di terminale una accanto all'altra, ed eseguire \n",
    "\n",
    "```\n",
    "$ python\n",
    "```\n",
    "\n",
    "su una e \n",
    "\n",
    "```\n",
    "$ ipython\n",
    "```\n",
    "\n",
    "sull'altra.\n"
   ]
  },
  {
   "cell_type": "markdown",
   "id": "dc0a3363",
   "metadata": {},
   "source": [
    "### Primo avvio\n",
    "\n",
    "IPython è collegato ad una specifica versione di Python. Questa versione viene indicata all'avvio\n",
    "\n",
    "Il prompt di python è il classico `>>> ` sul quale vengono inseriti i comandi. \n",
    "\n",
    "Il prompt di `ipython` ha l'aspetto `In[x]: ` dove `x` è un numero che parte da 1 e viene incrementato ad ogni comando. L'output del comando digitato al prompt, per esempio, `In[3]: ` viene visualizzato con un prefisso `Out[3]: `. \n",
    "\n",
    "Questo non è solo un orpello estetico, ma ha un significato concreto. I valori\n",
    "- `In`\n",
    "- `Out`\n",
    "contengono una traccia degli input inseriti e i risultati ottenuti durante la sessione di lavoro. Nell'interprete  python invece si può accedere al risultato precedente usando il comando `_`.\n",
    "\n",
    "\n",
    "### Autocompletamento \n",
    "\n",
    "È possibile digitare parte di un comando e usare il tasto `TAB` per farlo completare automaticamente. Questo può essere usato sia per \n",
    "\n",
    "- completare un comando  \n",
    "```\n",
    "import sys\n",
    "sys.ex<TAB>\n",
    "```\n",
    "\n",
    "- esplorare i comandi disponibili\n",
    "```\n",
    "import <TAB>\n",
    "```\n",
    "\n"
   ]
  },
  {
   "cell_type": "markdown",
   "id": "2f240163",
   "metadata": {},
   "source": [
    "### Documentazione\n",
    "\n",
    "Online si può trovare tantissima documentazione, ma spesso non serve andare online: il codice python contiene molta documentazione tecnica \n",
    "- parametri di un metodo o di una funzione\n",
    "- contenuto di un modulo\n",
    "...\n",
    "\n",
    "nell'interprete python la documentazione di una funzione, ad esempio `numpy.abs` si può ottenere usando `help(np.abs)`.\n",
    "\n",
    "In IPython potete usare `numpy.abs?` oppure, per avere ancora più informazioni, `numpy.abs??`.\n"
   ]
  },
  {
   "cell_type": "markdown",
   "id": "c4894743",
   "metadata": {},
   "source": [
    "## Comandi aggiuntivi\n",
    "\n",
    "Chi ha imparato ad usare il terminale e python nello stesso momento avrà, le prime volte, fatto confusione tra quelli che sono comandi del terminale (e.g. `ls` o `dir`) e quelle che sono istruzioni nel linguaggio python.\n",
    "\n",
    "IPython invece confonde un po' le acque e permette di usare, durante la sessione interattiva python, diversi tipi di comandi\n",
    "- normali istruzioni python\n",
    "- comandi di terminale\n",
    "- comandi speciali IPython\n",
    "\n",
    "Questo potere richiede quindi che l'utente abbia molto chiara la differenza tra le tre categorie.\n",
    "\n",
    "\n",
    "**Questi comandi speciali non possono essere usati nei programmi python, ma solo nelle sessioni interattive IPython e Jupyter.**"
   ]
  },
  {
   "cell_type": "markdown",
   "id": "9c5775d4",
   "metadata": {},
   "source": [
    "### Comandi da terminale\n",
    "\n",
    "- `ls`, `cd`, `pwd` possono essere utilizzati così come sono (a meno che non vengano ridefiniti)\n",
    " "
   ]
  },
  {
   "cell_type": "code",
   "execution_count": 2,
   "id": "bf190328",
   "metadata": {
    "scrolled": false
   },
   "outputs": [
    {
     "name": "stdout",
     "output_type": "stream",
     "text": [
      "algebra.ipynb      fib.py          ipython.ipynb  playing.ipynb     start.ipynb\r\n",
      "create.ipynb       gradient.ipynb  more.ipynb     README.md\r\n",
      "datigradiente.txt  indexing.ipynb  numpy.ipynb    requirements.txt\r\n"
     ]
    }
   ],
   "source": [
    "ls"
   ]
  },
  {
   "cell_type": "code",
   "execution_count": 3,
   "id": "6b4a0311",
   "metadata": {},
   "outputs": [
    {
     "data": {
      "text/plain": [
       "'/home/massimo/lavori/progetti/lezionepe'"
      ]
     },
     "execution_count": 3,
     "metadata": {},
     "output_type": "execute_result"
    }
   ],
   "source": [
    "pwd"
   ]
  },
  {
   "cell_type": "code",
   "execution_count": 4,
   "id": "f214d883",
   "metadata": {},
   "outputs": [
    {
     "data": {
      "text/plain": [
       "4"
      ]
     },
     "execution_count": 4,
     "metadata": {},
     "output_type": "execute_result"
    }
   ],
   "source": [
    "ls = 4\n",
    "ls"
   ]
  },
  {
   "cell_type": "markdown",
   "id": "db87bef0",
   "metadata": {},
   "source": [
    "### Comandi del terminale, arbitrari \n",
    "\n",
    "Un qualunque comando che inizia con il `!` è interpretato come un comando per il terminale"
   ]
  },
  {
   "cell_type": "code",
   "execution_count": 5,
   "id": "62ce1c0c",
   "metadata": {},
   "outputs": [
    {
     "name": "stdout",
     "output_type": "stream",
     "text": [
      "mer 5 mag 2021, 22:35:44, CEST\r\n"
     ]
    }
   ],
   "source": [
    "!date"
   ]
  },
  {
   "cell_type": "code",
   "execution_count": 6,
   "id": "90240bbc",
   "metadata": {},
   "outputs": [
    {
     "name": "stdout",
     "output_type": "stream",
     "text": [
      "totale 528\r\n",
      "-rw------- 1 massimo massimo 45462 mag  5 19:42 algebra.ipynb\r\n",
      "-rw------- 1 massimo massimo 96284 mag  5 19:42 create.ipynb\r\n",
      "-rw------- 1 massimo massimo  1359 mag  5 19:42 datigradiente.txt\r\n",
      "-rw------- 1 massimo massimo   526 mag  5 19:42 fib.py\r\n",
      "-rw------- 1 massimo massimo 53943 mag  5 19:42 gradient.ipynb\r\n",
      "-rw------- 1 massimo massimo 67433 mag  5 19:42 indexing.ipynb\r\n",
      "-rw------- 1 massimo massimo 17036 mag  5 22:34 ipython.ipynb\r\n",
      "-rw------- 1 massimo massimo 57394 mag  5 19:42 more.ipynb\r\n",
      "-rw------- 1 massimo massimo 29677 mag  5 19:42 numpy.ipynb\r\n",
      "-rw------- 1 massimo massimo 44284 mag  5 19:42 playing.ipynb\r\n",
      "-rw------- 1 massimo massimo    74 mag  5 19:41 README.md\r\n",
      "-rw------- 1 massimo massimo    25 mag  5 19:42 requirements.txt\r\n",
      "-rw------- 1 massimo massimo 89114 mag  5 22:16 start.ipynb\r\n"
     ]
    }
   ],
   "source": [
    "!ls -l"
   ]
  },
  {
   "cell_type": "markdown",
   "id": "6e4f1eb7",
   "metadata": {},
   "source": [
    "### Risultato di un comando del terminale in un'espressione python\n",
    "\n",
    "È possibile usare l'output un comando in uno script"
   ]
  },
  {
   "cell_type": "code",
   "execution_count": 11,
   "id": "2804fce1",
   "metadata": {},
   "outputs": [
    {
     "name": "stdout",
     "output_type": "stream",
     "text": [
      "cloud  config  Desktop\tgames  lavori  personal  photo\tqueue  snap\r\n"
     ]
    }
   ],
   "source": [
    "!ls ~/"
   ]
  },
  {
   "cell_type": "code",
   "execution_count": 13,
   "id": "0fb9d497",
   "metadata": {},
   "outputs": [
    {
     "name": "stdout",
     "output_type": "stream",
     "text": [
      "['cloud', 'config', 'Desktop', 'games', 'lavori', 'personal', 'photo', 'queue', 'snap']\n"
     ]
    }
   ],
   "source": [
    "cartelle = !ls ~/\n",
    "print(cartelle)"
   ]
  },
  {
   "cell_type": "code",
   "execution_count": 14,
   "id": "377695a2",
   "metadata": {},
   "outputs": [
    {
     "name": "stdout",
     "output_type": "stream",
     "text": [
      "['mer 5 mag 2021, 22:38:48, CEST']\n",
      "30\n"
     ]
    }
   ],
   "source": [
    "testo = !date\n",
    "print(testo)\n",
    "print(len(testo[0]))"
   ]
  },
  {
   "cell_type": "code",
   "execution_count": 15,
   "id": "f97344c4",
   "metadata": {},
   "outputs": [
    {
     "name": "stdout",
     "output_type": "stream",
     "text": [
      "mer 5 mag 2021, 22:38:54, CEST\r\n"
     ]
    }
   ],
   "source": [
    "!date"
   ]
  },
  {
   "cell_type": "markdown",
   "id": "4f69dbd4",
   "metadata": {},
   "source": [
    "### Viceversa, possiamo usare espressioni python nei comandi del terminale\n",
    "\n",
    "Il valore di una variable `var` può essere usato in un comando nel terminale, indicando questa variabile all'interno del comando, usando la notazione `$var`, cioè aggiungendo un `$` davanti al nome."
   ]
  },
  {
   "cell_type": "code",
   "execution_count": 16,
   "id": "9884f8f2",
   "metadata": {},
   "outputs": [
    {
     "name": "stdout",
     "output_type": "stream",
     "text": [
      "ls: impossibile accedere a 'andksnfjdshfjdhjfksd': File o directory non esistente\r\n"
     ]
    }
   ],
   "source": [
    "nomefile='andksnfjdshfjdhjfksd'\n",
    "!ls -l $nomefile"
   ]
  },
  {
   "cell_type": "code",
   "execution_count": 17,
   "id": "c91234d3",
   "metadata": {},
   "outputs": [
    {
     "name": "stdout",
     "output_type": "stream",
     "text": [
      "-rw------- 1 massimo massimo 45462 mag  5 19:42 algebra.ipynb\r\n",
      "-rw------- 1 massimo massimo 96284 mag  5 19:42 create.ipynb\r\n",
      "-rw------- 1 massimo massimo 53943 mag  5 19:42 gradient.ipynb\r\n",
      "-rw------- 1 massimo massimo 67433 mag  5 19:42 indexing.ipynb\r\n",
      "-rw------- 1 massimo massimo 17157 mag  5 22:38 ipython.ipynb\r\n",
      "-rw------- 1 massimo massimo 57394 mag  5 19:42 more.ipynb\r\n",
      "-rw------- 1 massimo massimo 29677 mag  5 19:42 numpy.ipynb\r\n",
      "-rw------- 1 massimo massimo 44284 mag  5 19:42 playing.ipynb\r\n",
      "-rw------- 1 massimo massimo 89114 mag  5 22:16 start.ipynb\r\n"
     ]
    }
   ],
   "source": [
    "notebooks='*.ipynb'\n",
    "!ls -l $notebooks"
   ]
  },
  {
   "cell_type": "markdown",
   "id": "fb55a0de",
   "metadata": {},
   "source": [
    "## Comandi speciali \n",
    "\n",
    "IPython e Jupyter contengono dei comandi *speciali* che vengono chiamati *magic* commands. Sono tutti comandi che hanno come prefisso `%`. Uno di essi è `%lsmagic` che li elenca tutti. È inutile discutere tutti questi comandi adesso. Tuttavia di ognuno è possibile avere della documentazioni facendoli seguire da un `?`."
   ]
  },
  {
   "cell_type": "code",
   "execution_count": 18,
   "id": "ff54a815",
   "metadata": {},
   "outputs": [
    {
     "data": {
      "application/json": {
       "cell": {
        "!": "OSMagics",
        "HTML": "Other",
        "SVG": "Other",
        "bash": "Other",
        "capture": "ExecutionMagics",
        "debug": "ExecutionMagics",
        "file": "Other",
        "html": "DisplayMagics",
        "javascript": "DisplayMagics",
        "js": "DisplayMagics",
        "latex": "DisplayMagics",
        "markdown": "DisplayMagics",
        "perl": "Other",
        "prun": "ExecutionMagics",
        "pypy": "Other",
        "python": "Other",
        "python2": "Other",
        "python3": "Other",
        "ruby": "Other",
        "script": "ScriptMagics",
        "sh": "Other",
        "svg": "DisplayMagics",
        "sx": "OSMagics",
        "system": "OSMagics",
        "time": "ExecutionMagics",
        "timeit": "ExecutionMagics",
        "writefile": "OSMagics"
       },
       "line": {
        "alias": "OSMagics",
        "alias_magic": "BasicMagics",
        "autoawait": "AsyncMagics",
        "autocall": "AutoMagics",
        "automagic": "AutoMagics",
        "autosave": "KernelMagics",
        "bookmark": "OSMagics",
        "cat": "Other",
        "cd": "OSMagics",
        "clear": "KernelMagics",
        "colors": "BasicMagics",
        "conda": "PackagingMagics",
        "config": "ConfigMagics",
        "connect_info": "KernelMagics",
        "cp": "Other",
        "debug": "ExecutionMagics",
        "dhist": "OSMagics",
        "dirs": "OSMagics",
        "doctest_mode": "BasicMagics",
        "ed": "Other",
        "edit": "KernelMagics",
        "env": "OSMagics",
        "gui": "BasicMagics",
        "hist": "Other",
        "history": "HistoryMagics",
        "killbgscripts": "ScriptMagics",
        "ldir": "Other",
        "less": "KernelMagics",
        "lf": "Other",
        "lk": "Other",
        "ll": "Other",
        "load": "CodeMagics",
        "load_ext": "ExtensionMagics",
        "loadpy": "CodeMagics",
        "logoff": "LoggingMagics",
        "logon": "LoggingMagics",
        "logstart": "LoggingMagics",
        "logstate": "LoggingMagics",
        "logstop": "LoggingMagics",
        "ls": "Other",
        "lsmagic": "BasicMagics",
        "lx": "Other",
        "macro": "ExecutionMagics",
        "magic": "BasicMagics",
        "man": "KernelMagics",
        "matplotlib": "PylabMagics",
        "mkdir": "Other",
        "more": "KernelMagics",
        "mv": "Other",
        "notebook": "BasicMagics",
        "page": "BasicMagics",
        "pastebin": "CodeMagics",
        "pdb": "ExecutionMagics",
        "pdef": "NamespaceMagics",
        "pdoc": "NamespaceMagics",
        "pfile": "NamespaceMagics",
        "pinfo": "NamespaceMagics",
        "pinfo2": "NamespaceMagics",
        "pip": "PackagingMagics",
        "popd": "OSMagics",
        "pprint": "BasicMagics",
        "precision": "BasicMagics",
        "prun": "ExecutionMagics",
        "psearch": "NamespaceMagics",
        "psource": "NamespaceMagics",
        "pushd": "OSMagics",
        "pwd": "OSMagics",
        "pycat": "OSMagics",
        "pylab": "PylabMagics",
        "qtconsole": "KernelMagics",
        "quickref": "BasicMagics",
        "recall": "HistoryMagics",
        "rehashx": "OSMagics",
        "reload_ext": "ExtensionMagics",
        "rep": "Other",
        "rerun": "HistoryMagics",
        "reset": "NamespaceMagics",
        "reset_selective": "NamespaceMagics",
        "rm": "Other",
        "rmdir": "Other",
        "run": "ExecutionMagics",
        "save": "CodeMagics",
        "sc": "OSMagics",
        "set_env": "OSMagics",
        "store": "StoreMagics",
        "sx": "OSMagics",
        "system": "OSMagics",
        "tb": "ExecutionMagics",
        "time": "ExecutionMagics",
        "timeit": "ExecutionMagics",
        "unalias": "OSMagics",
        "unload_ext": "ExtensionMagics",
        "who": "NamespaceMagics",
        "who_ls": "NamespaceMagics",
        "whos": "NamespaceMagics",
        "xdel": "NamespaceMagics",
        "xmode": "BasicMagics"
       }
      },
      "text/plain": [
       "Available line magics:\n",
       "%alias  %alias_magic  %autoawait  %autocall  %automagic  %autosave  %bookmark  %cat  %cd  %clear  %colors  %conda  %config  %connect_info  %cp  %debug  %dhist  %dirs  %doctest_mode  %ed  %edit  %env  %gui  %hist  %history  %killbgscripts  %ldir  %less  %lf  %lk  %ll  %load  %load_ext  %loadpy  %logoff  %logon  %logstart  %logstate  %logstop  %ls  %lsmagic  %lx  %macro  %magic  %man  %matplotlib  %mkdir  %more  %mv  %notebook  %page  %pastebin  %pdb  %pdef  %pdoc  %pfile  %pinfo  %pinfo2  %pip  %popd  %pprint  %precision  %prun  %psearch  %psource  %pushd  %pwd  %pycat  %pylab  %qtconsole  %quickref  %recall  %rehashx  %reload_ext  %rep  %rerun  %reset  %reset_selective  %rm  %rmdir  %run  %save  %sc  %set_env  %store  %sx  %system  %tb  %time  %timeit  %unalias  %unload_ext  %who  %who_ls  %whos  %xdel  %xmode\n",
       "\n",
       "Available cell magics:\n",
       "%%!  %%HTML  %%SVG  %%bash  %%capture  %%debug  %%file  %%html  %%javascript  %%js  %%latex  %%markdown  %%perl  %%prun  %%pypy  %%python  %%python2  %%python3  %%ruby  %%script  %%sh  %%svg  %%sx  %%system  %%time  %%timeit  %%writefile\n",
       "\n",
       "Automagic is ON, % prefix IS NOT needed for line magics."
      ]
     },
     "execution_count": 18,
     "metadata": {},
     "output_type": "execute_result"
    }
   ],
   "source": [
    "%lsmagic"
   ]
  },
  {
   "cell_type": "code",
   "execution_count": 20,
   "id": "5805a323",
   "metadata": {},
   "outputs": [],
   "source": [
    "%pip?"
   ]
  },
  {
   "cell_type": "code",
   "execution_count": 21,
   "id": "1804c3ee",
   "metadata": {},
   "outputs": [],
   "source": [
    "%run?"
   ]
  }
 ],
 "metadata": {
  "kernelspec": {
   "display_name": "Python 3",
   "language": "python",
   "name": "python3"
  },
  "language_info": {
   "codemirror_mode": {
    "name": "ipython",
    "version": 3
   },
   "file_extension": ".py",
   "mimetype": "text/x-python",
   "name": "python",
   "nbconvert_exporter": "python",
   "pygments_lexer": "ipython3",
   "version": "3.9.1"
  }
 },
 "nbformat": 4,
 "nbformat_minor": 5
}
