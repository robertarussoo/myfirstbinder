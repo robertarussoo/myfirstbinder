{
 "cells": [
  {
   "cell_type": "markdown",
   "id": "novel-tractor",
   "metadata": {},
   "source": [
    "# Funzioni per creare array\n",
    "\n",
    "Adesso vediamo una piccola piccola carrellata di funzioni utili per creare degli array (vedremo principalmente esempi 1d e 2d). Non ci sta molto da discutere. È solo una carrellata."
   ]
  },
  {
   "cell_type": "code",
   "execution_count": 1,
   "id": "hazardous-bolivia",
   "metadata": {},
   "outputs": [],
   "source": [
    "import numpy as np\n",
    "import matplotlib.pyplot as plt\n",
    "autunno=plt.cm.autumn\n",
    "inferno=plt.cm.inferno"
   ]
  },
  {
   "cell_type": "markdown",
   "id": "bottom-reward",
   "metadata": {},
   "source": [
    "## Array non inizializzati\n",
    "\n",
    "Viene riservata un'area di memoria nella RAM ma quest'area non viene impostata con dei valori specifici, quindi la creazione è più efficiente. Il contenuto è imprevedibile."
   ]
  },
  {
   "cell_type": "code",
   "execution_count": 2,
   "id": "common-prison",
   "metadata": {},
   "outputs": [
    {
     "data": {
      "text/plain": [
       "<matplotlib.image.AxesImage at 0x7f81a9113520>"
      ]
     },
     "execution_count": 2,
     "metadata": {},
     "output_type": "execute_result"
    },
    {
     "data": {
      "image/png": "[encoded data removed]",
      "text/plain": [
       "<Figure size 360x288 with 1 Axes>"
      ]
     },
     "metadata": {
      "needs_background": "light"
     },
     "output_type": "display_data"
    }
   ],
   "source": [
    "X = np.ndarray((4,5),'float64')   # ndarray\n",
    "plt.matshow(X)"
   ]
  },
  {
   "cell_type": "code",
   "execution_count": 3,
   "id": "narrow-stable",
   "metadata": {},
   "outputs": [
    {
     "data": {
      "text/plain": [
       "array([0.1, 0.1, 0.1, 0.1, 0.1, 0.1, 0.1, 0.1, 0.1, 0.1, 0.1, 0.1, 0.1,\n",
       "       0.1, 0.1, 0.9, 0.1, 0.1, 0.1, 0.1])"
      ]
     },
     "execution_count": 3,
     "metadata": {},
     "output_type": "execute_result"
    }
   ],
   "source": [
    "X = np.empty(20,'float64')\n",
    "X"
   ]
  },
  {
   "cell_type": "markdown",
   "id": "thermal-custody",
   "metadata": {},
   "source": [
    "## Array impostati a zero\n",
    "\n",
    "Tutti gli elementi vengono impostati a zero"
   ]
  },
  {
   "cell_type": "code",
   "execution_count": 4,
   "id": "according-olive",
   "metadata": {},
   "outputs": [
    {
     "data": {
      "text/plain": [
       "array([0, 0, 0, 0, 0, 0, 0, 0, 0, 0, 0, 0, 0, 0, 0, 0, 0, 0, 0, 0, 0, 0,\n",
       "       0, 0, 0, 0, 0, 0, 0, 0], dtype=int32)"
      ]
     },
     "execution_count": 4,
     "metadata": {},
     "output_type": "execute_result"
    }
   ],
   "source": [
    "X = np.zeros(30,'int32')\n",
    "X"
   ]
  },
  {
   "cell_type": "code",
   "execution_count": 5,
   "id": "controlling-elephant",
   "metadata": {},
   "outputs": [
    {
     "data": {
      "text/plain": [
       "array([[[0, 0, 0, 0, 0],\n",
       "        [0, 0, 0, 0, 0],\n",
       "        [0, 0, 0, 0, 0],\n",
       "        [0, 0, 0, 0, 0],\n",
       "        [0, 0, 0, 0, 0]],\n",
       "\n",
       "       [[0, 0, 0, 0, 0],\n",
       "        [0, 0, 0, 0, 0],\n",
       "        [0, 0, 0, 0, 0],\n",
       "        [0, 0, 0, 0, 0],\n",
       "        [0, 0, 0, 0, 0]],\n",
       "\n",
       "       [[0, 0, 0, 0, 0],\n",
       "        [0, 0, 0, 0, 0],\n",
       "        [0, 0, 0, 0, 0],\n",
       "        [0, 0, 0, 0, 0],\n",
       "        [0, 0, 0, 0, 0]],\n",
       "\n",
       "       [[0, 0, 0, 0, 0],\n",
       "        [0, 0, 0, 0, 0],\n",
       "        [0, 0, 0, 0, 0],\n",
       "        [0, 0, 0, 0, 0],\n",
       "        [0, 0, 0, 0, 0]],\n",
       "\n",
       "       [[0, 0, 0, 0, 0],\n",
       "        [0, 0, 0, 0, 0],\n",
       "        [0, 0, 0, 0, 0],\n",
       "        [0, 0, 0, 0, 0],\n",
       "        [0, 0, 0, 0, 0]]])"
      ]
     },
     "execution_count": 5,
     "metadata": {},
     "output_type": "execute_result"
    }
   ],
   "source": [
    "X = np.zeros((5,5,5),'int64')\n",
    "X"
   ]
  },
  {
   "cell_type": "markdown",
   "id": "paperback-tutorial",
   "metadata": {},
   "source": [
    "## Array impostati a uno\n",
    "\n",
    "Tutti gli elementi vengono impostati a uno. Moltiplicando si può avere l'array impostato ad un valore specifico."
   ]
  },
  {
   "cell_type": "code",
   "execution_count": 6,
   "id": "broadband-august",
   "metadata": {},
   "outputs": [
    {
     "data": {
      "text/plain": [
       "array([1, 1, 1, 1, 1, 1, 1, 1, 1, 1, 1, 1, 1, 1, 1, 1, 1, 1, 1, 1, 1, 1,\n",
       "       1, 1, 1, 1, 1, 1, 1, 1], dtype=int32)"
      ]
     },
     "execution_count": 6,
     "metadata": {},
     "output_type": "execute_result"
    }
   ],
   "source": [
    "X = np.ones(30,'int32')\n",
    "X"
   ]
  },
  {
   "cell_type": "code",
   "execution_count": 7,
   "id": "verified-initial",
   "metadata": {},
   "outputs": [
    {
     "data": {
      "text/plain": [
       "array([[3.2, 3.2, 3.2, 3.2],\n",
       "       [3.2, 3.2, 3.2, 3.2],\n",
       "       [3.2, 3.2, 3.2, 3.2],\n",
       "       [3.2, 3.2, 3.2, 3.2]], dtype=float32)"
      ]
     },
     "execution_count": 7,
     "metadata": {},
     "output_type": "execute_result"
    }
   ],
   "source": [
    "X = np.ones((4,4),'float32')\n",
    "X *= 3.2      # Riscrittura dello stesso array\n",
    "X"
   ]
  },
  {
   "cell_type": "markdown",
   "id": "personal-ceramic",
   "metadata": {},
   "source": [
    "## Array impostato a valore costante"
   ]
  },
  {
   "cell_type": "code",
   "execution_count": 8,
   "id": "reserved-dynamics",
   "metadata": {},
   "outputs": [
    {
     "data": {
      "text/plain": [
       "array([[10, 10, 10],\n",
       "       [10, 10, 10],\n",
       "       [10, 10, 10],\n",
       "       [10, 10, 10]])"
      ]
     },
     "execution_count": 8,
     "metadata": {},
     "output_type": "execute_result"
    }
   ],
   "source": [
    "X = np.full((4,3),10)   # Inizializzato a 10\n",
    "X"
   ]
  },
  {
   "cell_type": "markdown",
   "id": "adjacent-prefix",
   "metadata": {},
   "source": [
    "## Array impostati da altre sequenze\n",
    "\n",
    "I dati vengono caricati da una sequenza."
   ]
  },
  {
   "cell_type": "code",
   "execution_count": 114,
   "id": "stainless-metropolitan",
   "metadata": {},
   "outputs": [
    {
     "data": {
      "text/plain": [
       "array([3, 5, 3, 5])"
      ]
     },
     "execution_count": 114,
     "metadata": {},
     "output_type": "execute_result"
    }
   ],
   "source": [
    "X = np.array([3,5,3,5])\n",
    "X"
   ]
  },
  {
   "cell_type": "code",
   "execution_count": 115,
   "id": "expensive-integration",
   "metadata": {},
   "outputs": [
    {
     "data": {
      "text/plain": [
       "<matplotlib.image.AxesImage at 0x7f65580e2280>"
      ]
     },
     "execution_count": 115,
     "metadata": {},
     "output_type": "execute_result"
    },
    {
     "data": {
      "image/png": "[encoded data removed]",
      "text/plain": [
       "<Figure size 432x288 with 1 Axes>"
      ]
     },
     "metadata": {
      "needs_background": "light"
     },
     "output_type": "display_data"
    }
   ],
   "source": [
    "X = np.array([[1,2,3],[4,5,6]])\n",
    "plt.matshow(X)"
   ]
  },
  {
   "cell_type": "markdown",
   "id": "internal-pride",
   "metadata": {},
   "source": [
    "## Matrici diagonali\n"
   ]
  },
  {
   "cell_type": "code",
   "execution_count": 116,
   "id": "reported-parking",
   "metadata": {},
   "outputs": [
    {
     "data": {
      "text/plain": [
       "array([[1, 0, 0, 0, 0, 0, 0, 0],\n",
       "       [0, 2, 0, 0, 0, 0, 0, 0],\n",
       "       [0, 0, 3, 0, 0, 0, 0, 0],\n",
       "       [0, 0, 0, 4, 0, 0, 0, 0],\n",
       "       [0, 0, 0, 0, 5, 0, 0, 0],\n",
       "       [0, 0, 0, 0, 0, 6, 0, 0],\n",
       "       [0, 0, 0, 0, 0, 0, 7, 0],\n",
       "       [0, 0, 0, 0, 0, 0, 0, 8]])"
      ]
     },
     "execution_count": 116,
     "metadata": {},
     "output_type": "execute_result"
    }
   ],
   "source": [
    "X = np.diag([1,2,3,4,5,6,7,8])\n",
    "X"
   ]
  },
  {
   "cell_type": "code",
   "execution_count": 117,
   "id": "portable-papua",
   "metadata": {},
   "outputs": [
    {
     "data": {
      "text/plain": [
       "<matplotlib.image.AxesImage at 0x7f6555f35370>"
      ]
     },
     "execution_count": 117,
     "metadata": {},
     "output_type": "execute_result"
    },
    {
     "data": {
      "image/png": "[encoded data removed]",
      "text/plain": [
       "<Figure size 288x288 with 1 Axes>"
      ]
     },
     "metadata": {
      "needs_background": "light"
     },
     "output_type": "display_data"
    }
   ],
   "source": [
    "plt.matshow(X,cmap=autunno)"
   ]
  },
  {
   "cell_type": "markdown",
   "id": "developed-assembly",
   "metadata": {},
   "source": [
    "## Matrice identità"
   ]
  },
  {
   "cell_type": "code",
   "execution_count": 118,
   "id": "raising-stereo",
   "metadata": {},
   "outputs": [
    {
     "data": {
      "text/plain": [
       "<matplotlib.image.AxesImage at 0x7f65582390d0>"
      ]
     },
     "execution_count": 118,
     "metadata": {},
     "output_type": "execute_result"
    },
    {
     "data": {
      "image/png": "[encoded data removed]",
      "text/plain": [
       "<Figure size 288x288 with 1 Axes>"
      ]
     },
     "metadata": {
      "needs_background": "light"
     },
     "output_type": "display_data"
    }
   ],
   "source": [
    "I = np.eye(6)\n",
    "plt.matshow(I)"
   ]
  },
  {
   "cell_type": "code",
   "execution_count": 10,
   "id": "shaped-salad",
   "metadata": {},
   "outputs": [
    {
     "data": {
      "text/plain": [
       "<matplotlib.image.AxesImage at 0x7f81a6fdbf70>"
      ]
     },
     "execution_count": 10,
     "metadata": {},
     "output_type": "execute_result"
    },
    {
     "data": {
      "image/png": "[encoded data removed]",
      "text/plain": [
       "<Figure size 480x288 with 1 Axes>"
      ]
     },
     "metadata": {
      "needs_background": "light"
     },
     "output_type": "display_data"
    }
   ],
   "source": [
    "I = np.eye(6,10)\n",
    "plt.matshow(I)"
   ]
  },
  {
   "cell_type": "code",
   "execution_count": 11,
   "id": "artistic-titanium",
   "metadata": {},
   "outputs": [
    {
     "data": {
      "text/plain": [
       "<matplotlib.image.AxesImage at 0x7f81a6f39dc0>"
      ]
     },
     "execution_count": 11,
     "metadata": {},
     "output_type": "execute_result"
    },
    {
     "data": {
      "image/png": "[encoded data removed]",
      "text/plain": [
       "<Figure size 288x480 with 1 Axes>"
      ]
     },
     "metadata": {
      "needs_background": "light"
     },
     "output_type": "display_data"
    }
   ],
   "source": [
    "I = np.eye(10,6)\n",
    "plt.matshow(I)"
   ]
  },
  {
   "cell_type": "code",
   "execution_count": 80,
   "id": "radio-bookmark",
   "metadata": {},
   "outputs": [
    {
     "data": {
      "text/plain": [
       "<matplotlib.image.AxesImage at 0x7f6557f19b50>"
      ]
     },
     "execution_count": 80,
     "metadata": {},
     "output_type": "execute_result"
    },
    {
     "data": {
      "image/png": "[encoded data removed]",
      "text/plain": [
       "<Figure size 480x288 with 1 Axes>"
      ]
     },
     "metadata": {
      "needs_background": "light"
     },
     "output_type": "display_data"
    }
   ],
   "source": [
    "I = np.eye(6,10,3)\n",
    "plt.matshow(I)"
   ]
  },
  {
   "cell_type": "markdown",
   "id": "strange-silicon",
   "metadata": {},
   "source": [
    "## Dati casuali\n",
    "\n",
    "Gli elementi dell'array vengono riempiti con dati casuali, e `numpy` fornisce diverse distribuzioni."
   ]
  },
  {
   "cell_type": "code",
   "execution_count": 120,
   "id": "minus-origin",
   "metadata": {},
   "outputs": [
    {
     "data": {
      "image/png": "[encoded data removed]",
      "text/plain": [
       "<Figure size 1080x288 with 2 Axes>"
      ]
     },
     "metadata": {
      "needs_background": "light"
     },
     "output_type": "display_data"
    }
   ],
   "source": [
    "X = np.random.rand(30,60)    # Uniformi tra 0 e 1 (escluso)\n",
    "\n",
    "fig,ax = plt.subplots(1,2)\n",
    "fig.set_figwidth(15)\n",
    "ax[0].matshow(X)\n",
    "ax[1].hist(X)\n",
    "plt.show()"
   ]
  },
  {
   "cell_type": "code",
   "execution_count": 125,
   "id": "shared-pixel",
   "metadata": {},
   "outputs": [
    {
     "data": {
      "image/png": "[encoded data removed]",
      "text/plain": [
       "<Figure size 1080x288 with 2 Axes>"
      ]
     },
     "metadata": {
      "needs_background": "light"
     },
     "output_type": "display_data"
    }
   ],
   "source": [
    "X = np.random.randn(30,60)    # Normale con media 0 e scarto quadratico 1\n",
    "\n",
    "fig,ax = plt.subplots(1,2)\n",
    "fig.set_figwidth(15)\n",
    "ax[0].matshow(X)\n",
    "ax[1].hist(X)\n",
    "plt.show()"
   ]
  },
  {
   "cell_type": "markdown",
   "id": "liberal-drive",
   "metadata": {},
   "source": [
    "## \"Quello che ha detto lui\"\n",
    "\n",
    "A volte è necessario creare un array che abbia \n",
    "- la struttura\n",
    "- la strutture e i valori\n",
    "di un array già esistente. \n"
   ]
  },
  {
   "cell_type": "code",
   "execution_count": 150,
   "id": "korean-failing",
   "metadata": {},
   "outputs": [
    {
     "name": "stdout",
     "output_type": "stream",
     "text": [
      "(4, 10)\n",
      "float64\n"
     ]
    },
    {
     "data": {
      "image/png": "[encoded data removed]",
      "text/plain": [
       "<Figure size 1080x288 with 3 Axes>"
      ]
     },
     "metadata": {
      "needs_background": "light"
     },
     "output_type": "display_data"
    }
   ],
   "source": [
    "X = np.random.rand(4,10)\n",
    "print(X.shape)\n",
    "print(X.dtype)\n",
    "\n",
    "A = np.ones_like(X)\n",
    "B = X.copy()\n",
    "\n",
    "fig,ax = plt.subplots(1,3)\n",
    "fig.set_figwidth(15)\n",
    "ax[0].matshow(X)\n",
    "ax[1].matshow(A)\n",
    "ax[2].matshow(B)\n",
    "plt.show()"
   ]
  },
  {
   "cell_type": "markdown",
   "id": "greater-ensemble",
   "metadata": {},
   "source": [
    "## Array creato da una funzione\n",
    "\n",
    "Gli elementi dell'array sono una funzione delle coordinate"
   ]
  },
  {
   "cell_type": "code",
   "execution_count": 153,
   "id": "ecological-communications",
   "metadata": {},
   "outputs": [
    {
     "data": {
      "text/plain": [
       "<matplotlib.image.AxesImage at 0x7f655569d9d0>"
      ]
     },
     "execution_count": 153,
     "metadata": {},
     "output_type": "execute_result"
    },
    {
     "data": {
      "image/png": "[encoded data removed]",
      "text/plain": [
       "<Figure size 576x288 with 1 Axes>"
      ]
     },
     "metadata": {
      "needs_background": "light"
     },
     "output_type": "display_data"
    }
   ],
   "source": [
    "def parità(i,j):\n",
    "    return (i+j) % 2\n",
    "\n",
    "X = np.fromfunction(parità,(4,8))\n",
    "plt.matshow(X)"
   ]
  },
  {
   "cell_type": "code",
   "execution_count": 157,
   "id": "tough-alignment",
   "metadata": {
    "scrolled": false
   },
   "outputs": [
    {
     "data": {
      "text/plain": [
       "<matplotlib.image.AxesImage at 0x7f655558b190>"
      ]
     },
     "execution_count": 157,
     "metadata": {},
     "output_type": "execute_result"
    },
    {
     "data": {
      "image/png": "[encoded data removed]",
      "text/plain": [
       "<Figure size 288x288 with 1 Axes>"
      ]
     },
     "metadata": {
      "needs_background": "light"
     },
     "output_type": "display_data"
    }
   ],
   "source": [
    "def somma(i,j):\n",
    "    return (i+j)\n",
    "\n",
    "X = np.fromfunction(somma,(8,8))\n",
    "plt.matshow(X)"
   ]
  },
  {
   "cell_type": "code",
   "execution_count": null,
   "id": "basic-moldova",
   "metadata": {},
   "outputs": [],
   "source": []
  }
 ],
 "metadata": {
  "kernelspec": {
   "display_name": "Python 3",
   "language": "python",
   "name": "python3"
  },
  "language_info": {
   "codemirror_mode": {
    "name": "ipython",
    "version": 3
   },
   "file_extension": ".py",
   "mimetype": "text/x-python",
   "name": "python",
   "nbconvert_exporter": "python",
   "pygments_lexer": "ipython3",
   "version": "3.9.1"
  }
 },
 "nbformat": 4,
 "nbformat_minor": 5
}
