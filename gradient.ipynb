{
 "cells": [
  {
   "cell_type": "markdown",
   "metadata": {},
   "source": [
    "# Regressione lineare attraverso la discesa del gradiente\n",
    "\n",
    "**Disclaimer** voi ne sapete certamente più di me su come si usa la regressione lineare, e probabilmente anche di come si calcola la discesa del gradiente! Lo scopo di questo esercizo è solo quello di mostrarvi con un esempio concreto come si possono eseguire dei calcoli e degli algoritmi utili usando `numpy`.\n",
    "\n",
    "Peraltro pacchetti come `scipy` (un parente stretto di `numpy`) contengono già delle implementazioni questi algoritmi. Prendete quindi questo come un semplice esercizio per far pratica con `numpy`.\n",
    "\n",
    "Fonti: https://towardsdatascience.com/linear-regression-using-gradient-descent-97a6c8700931\n",
    "\n",
    "Fonte dati: https://github.com/jdwittenauer/ipython-notebooks/blob/master/data/ex1data1.txt\n",
    "\n",
    "\n",
    "# La \"storia\" \n",
    "\n",
    "Supponiamo di essere i presidenti di una compagnia di ristorazione che ha diversi punti vendita in giro per il paese. Dobbiamo decidere se e dove aprire altri punti vendita, e visto che abbiamo già dei punti vendita in attività, abbiamo dei dati che indicano il profitto ottenuto e la popolazione presente, nelle zone già servite. Prima di prendere delle decisioni commerciali potremmo stimare il profitto medio, in base alla popolazione presente nella zona servita.\n",
    "\n",
    "Utilizzeremo un **modello lineare** del tipo\n",
    "$$\n",
    "    \\text{Profitto} = A \\cdot \\text{Popolazione} + B\n",
    "$$\n",
    "e quindi utilizzeremo i dati che abbiamo per cercare di capire come impostare i parametri $A$ e $B$ del modello perché il modello abbia un qualche valore predittivo."
   ]
  },
  {
   "cell_type": "markdown",
   "metadata": {},
   "source": [
    "# Otteniamo i dati dal web\n",
    "\n",
    "I dati sono presenti su un file pubblico, che si può trovare su internet. Il file è in formato *CSV* (comma,separated, value). Ci sono molte librerie python che permettono di leggere ed elaborare dati tabellari e dataframes in maniera molto comoda, ad esempio `pandas`. Non tratteremo questa libreria. Sappiate solo che adesso abbiamo un array `pop` con la popolazione e uno `prof` con i profitti.  "
   ]
  },
  {
   "cell_type": "code",
   "execution_count": 2,
   "metadata": {},
   "outputs": [
    {
     "data": {
      "text/html": [
       "<div>\n",
       "<style scoped>\n",
       "    .dataframe tbody tr th:only-of-type {\n",
       "        vertical-align: middle;\n",
       "    }\n",
       "\n",
       "    .dataframe tbody tr th {\n",
       "        vertical-align: top;\n",
       "    }\n",
       "\n",
       "    .dataframe thead th {\n",
       "        text-align: right;\n",
       "    }\n",
       "</style>\n",
       "<table border=\"1\" class=\"dataframe\">\n",
       "  <thead>\n",
       "    <tr style=\"text-align: right;\">\n",
       "      <th></th>\n",
       "      <th>Popolazione</th>\n",
       "      <th>Profitti</th>\n",
       "    </tr>\n",
       "  </thead>\n",
       "  <tbody>\n",
       "    <tr>\n",
       "      <th>0</th>\n",
       "      <td>6.1101</td>\n",
       "      <td>17.59200</td>\n",
       "    </tr>\n",
       "    <tr>\n",
       "      <th>1</th>\n",
       "      <td>5.5277</td>\n",
       "      <td>9.13020</td>\n",
       "    </tr>\n",
       "    <tr>\n",
       "      <th>2</th>\n",
       "      <td>8.5186</td>\n",
       "      <td>13.66200</td>\n",
       "    </tr>\n",
       "    <tr>\n",
       "      <th>3</th>\n",
       "      <td>7.0032</td>\n",
       "      <td>11.85400</td>\n",
       "    </tr>\n",
       "    <tr>\n",
       "      <th>4</th>\n",
       "      <td>5.8598</td>\n",
       "      <td>6.82330</td>\n",
       "    </tr>\n",
       "    <tr>\n",
       "      <th>...</th>\n",
       "      <td>...</td>\n",
       "      <td>...</td>\n",
       "    </tr>\n",
       "    <tr>\n",
       "      <th>92</th>\n",
       "      <td>5.8707</td>\n",
       "      <td>7.20290</td>\n",
       "    </tr>\n",
       "    <tr>\n",
       "      <th>93</th>\n",
       "      <td>5.3054</td>\n",
       "      <td>1.98690</td>\n",
       "    </tr>\n",
       "    <tr>\n",
       "      <th>94</th>\n",
       "      <td>8.2934</td>\n",
       "      <td>0.14454</td>\n",
       "    </tr>\n",
       "    <tr>\n",
       "      <th>95</th>\n",
       "      <td>13.3940</td>\n",
       "      <td>9.05510</td>\n",
       "    </tr>\n",
       "    <tr>\n",
       "      <th>96</th>\n",
       "      <td>5.4369</td>\n",
       "      <td>0.61705</td>\n",
       "    </tr>\n",
       "  </tbody>\n",
       "</table>\n",
       "<p>97 rows × 2 columns</p>\n",
       "</div>"
      ],
      "text/plain": [
       "    Popolazione  Profitti\n",
       "0        6.1101  17.59200\n",
       "1        5.5277   9.13020\n",
       "2        8.5186  13.66200\n",
       "3        7.0032  11.85400\n",
       "4        5.8598   6.82330\n",
       "..          ...       ...\n",
       "92       5.8707   7.20290\n",
       "93       5.3054   1.98690\n",
       "94       8.2934   0.14454\n",
       "95      13.3940   9.05510\n",
       "96       5.4369   0.61705\n",
       "\n",
       "[97 rows x 2 columns]"
      ]
     },
     "execution_count": 2,
     "metadata": {},
     "output_type": "execute_result"
    }
   ],
   "source": [
    "import pandas as pd\n",
    "data = pd.read_csv('datigradiente.txt', header=None, names=['Popolazione', 'Profitti'])\n",
    "data"
   ]
  },
  {
   "cell_type": "code",
   "execution_count": 3,
   "metadata": {},
   "outputs": [
    {
     "data": {
      "text/plain": [
       "(dtype('float64'), dtype('float64'))"
      ]
     },
     "execution_count": 3,
     "metadata": {},
     "output_type": "execute_result"
    }
   ],
   "source": [
    "import numpy as np\n",
    "\n",
    "pop=np.array(data['Popolazione'])\n",
    "prof=np.array(data['Profitti'])\n",
    "\n",
    "pop.dtype,prof.dtype"
   ]
  },
  {
   "cell_type": "markdown",
   "metadata": {},
   "source": [
    "## Plot preliminare dei dati\n",
    "\n",
    "Mostriamo uno `scatterplot` che visualizzi i dati. \n",
    "\n",
    "Negli esempi precedenti abbiamo usato `matplotlib`, che è certamente un ottimo strumento, senza soffermarci troppo sui suoi dettagli. La maniera più semplice per usarla è quella di importare il modulo `matplotlib.pyplot` e poi di usare le funzioni ivi contenute, come `plot`, `grid`, `figure`, `show`, `matshow` e in questo caso `scatter`."
   ]
  },
  {
   "cell_type": "code",
   "execution_count": 4,
   "metadata": {},
   "outputs": [
    {
     "data": {
      "text/plain": [
       "<matplotlib.collections.PathCollection at 0x7fdcb03c2c40>"
      ]
     },
     "execution_count": 4,
     "metadata": {},
     "output_type": "execute_result"
    },
    {
     "data": {
      "image/png": "[encoded data removed]",
      "text/plain": [
       "<Figure size 1080x720 with 1 Axes>"
      ]
     },
     "metadata": {
      "needs_background": "light"
     },
     "output_type": "display_data"
    }
   ],
   "source": [
    "import matplotlib.pyplot as plt\n",
    "\n",
    "plt.figure(figsize=(15, 10))\n",
    "plt.grid(True)\n",
    "plt.scatter(pop,prof)"
   ]
  },
  {
   "cell_type": "markdown",
   "metadata": {},
   "source": [
    "## Loss function\n",
    "\n",
    "\n",
    "Lo scopo è definire una funzione lineare $z(x) = A * x + B$, che possa modellare la relazione tra popolazione e profitto.\n",
    "\n",
    "Definiamo \n",
    "\n",
    "- $x$ la popolazione\n",
    "- $y$ il profitto\n",
    "- $z(x)$ il profitto previsto dal modello lineare\n",
    " \n",
    "\n",
    "Per misurare la bontà del modello utilizziamo come *funzione di costo* la media dei quadrati delle differenze tra valore predetto e valore effettivo.\n",
    "\n",
    "$$\n",
    "L(z) = \\frac{1}{n} \\sum_i (y_i - z(x_i))^2\n",
    "$$\n",
    "\n",
    "dove $n$ è il numero di rilevazioni. Riscrivendo $z$ con il modello lineare che vogliamo stimare possiamo scrivere la funzione di costo come\n",
    "\n",
    "$$\n",
    "L(A,B) = \\frac{1}{n} \\sum_i (y_i - A x_i - B)^2\n",
    "$$"
   ]
  },
  {
   "cell_type": "markdown",
   "metadata": {},
   "source": [
    "## Il metodo della discesa del gradiente\n",
    "\n",
    "Non andremo nello specifico, vi basti sapere che l'idea del metodo della discesa del gradiente è quello di calcolare le derivate parziali rispetto ai parametri (in questo caso $A$ e $B$) della funzione di errore.\n",
    "\n",
    "Conoscere le derivate parziali vi permette di sapere qual è la **direzione** nello spazio dei parametri $A$,$B$ per la quale l'errore cresce nella maniera più ripida. L'idea è quindi modificare i parametri $A$ e $B$ per farli andare nella direzione opposta.\n",
    "\n",
    "Derivata di $L$ ripsetto ad $A$:\n",
    "$$\n",
    "\\frac{\\partial L}{\\partial A} = \\frac{1}{n} \\sum_i 2(y_i - A x_i - B)(-x_i) = \\frac{-2}{n} \\sum_i x_i (y_i - z(x_i))\n",
    "$$\n",
    "\n",
    "Derivata di $L$ rispetto ad $B$:\n",
    "$$\n",
    "\\frac{\\partial L}{\\partial B} = \\frac{1}{n} \\sum_i 2(y_i - A x_i - B)(-1) = \\frac{-2}{n} \\sum_i (y_i - z(x_i))\n",
    "$$\n",
    "\n",
    "Dunque ad ogni iterazione i valori di $A$ e $B$ saranno corretti utilizzando la regola\n",
    "$$\n",
    "A \\leftarrow A - r \\cdot \\frac{\\partial L}{\\partial A}\n",
    "$$\n",
    "e\n",
    "$$\n",
    "B \\leftarrow B - r \\cdot \\frac{\\partial L}{\\partial B}\n",
    "$$\n",
    "\n",
    "dove $r$ è un valore piccolo detto learning rate.\n"
   ]
  },
  {
   "cell_type": "code",
   "execution_count": 7,
   "metadata": {},
   "outputs": [],
   "source": [
    "# Costruiamo il modello\n",
    "import numpy as np\n",
    "\n",
    "# Dati iniziali\n",
    "x = pop\n",
    "y = prof\n",
    "\n",
    "n = len(pop)\n",
    "\n",
    "# impostiamo i valori iniziali arbitrariamente\n",
    "z = np.zeros(n)\n",
    "A = 0\n",
    "B = 0\n",
    "\n",
    "r = 0.0001  # learning rate\n",
    "\n",
    "def iterazione(Aold,Bold):\n",
    "    \"Aggiorna le stime per A,B\"\n",
    "    \n",
    "    global z\n",
    "    \n",
    "    derA = (-2/n) * np.sum( x*(y - z) )\n",
    "    derB = (-2/n) * np.sum(y - z)\n",
    "\n",
    "    A = Aold - r * derA\n",
    "    B = Bold - r * derB\n",
    "    \n",
    "    z[:] = A*x + B      # nuova previsione\n",
    "\n",
    "    err = (1/n) * np.sum((z-y)**2)\n",
    "    \n",
    "    return A,B,err\n",
    "\n"
   ]
  },
  {
   "cell_type": "markdown",
   "metadata": {},
   "source": [
    "## Ripetiamo il raffinamento del modello \n",
    "\n",
    "Quante volte andremo a raffinare il modello? La scelta dipende dal contesto e da informazioni che forse siete in grado di elaborare meglio di me. L'ideale sarebbe arrivare a una funzione di costo pari a zero (nessun errore) tuttavia se i dati non sono lineari si arriverà sempre ad un modello approssimato, che contiene errori.\n",
    "Il modello poi potrebbe avvicinarsi all'errore minimo molto lentamente, rendendo il calcolo molto lungo. Potremmo adottare i seguenti criteri per interrompere le iterazioni. Ci fermiamo quando\n",
    "\n",
    "- siamo arrivati ad un errore abbastanza piccolo; \n",
    "- abbiamo effettuato troppe iterazioni.\n"
   ]
  },
  {
   "cell_type": "code",
   "execution_count": 8,
   "metadata": {},
   "outputs": [
    {
     "name": "stdout",
     "output_type": "stream",
     "text": [
      "Errore:  21.786650324441908\n",
      "Round eseguiti: 50\n"
     ]
    },
    {
     "data": {
      "text/plain": [
       "[<matplotlib.lines.Line2D at 0x7fdcb02d5dc0>]"
      ]
     },
     "execution_count": 8,
     "metadata": {},
     "output_type": "execute_result"
    },
    {
     "data": {
      "image/png": "[encoded data removed]",
      "text/plain": [
       "<Figure size 1080x720 with 1 Axes>"
      ]
     },
     "metadata": {
      "needs_background": "light"
     },
     "output_type": "display_data"
    }
   ],
   "source": [
    "# Raffinamento del modello\n",
    "\n",
    "maxerr = 10.0\n",
    "maxrounds = 50\n",
    "\n",
    "A,B,err=0,0,np.inf\n",
    "\n",
    "for i in range(maxrounds):\n",
    "\n",
    "    A,B,err = iterazione(A,B)\n",
    "    \n",
    "    if err < maxerr:\n",
    "        break\n",
    "\n",
    "print(\"Errore: \", err)\n",
    "print('Round eseguiti:', i+1)\n",
    "       \n",
    "plt.figure(figsize=(15, 10))\n",
    "plt.grid(True)\n",
    "plt.scatter(x, y)\n",
    "plt.plot([min(x), max(x)], [A*min(x)+B, A*max(x)+B], color='red')  # linear model\n"
   ]
  },
  {
   "cell_type": "markdown",
   "metadata": {},
   "source": [
    "## Osserviamo l'evoluzione dell'errore al variare dei parametri\n",
    "\n",
    "Aggiungiamo un po' di interattività per osservare l'evoluzione del modello."
   ]
  },
  {
   "cell_type": "code",
   "execution_count": 15,
   "metadata": {},
   "outputs": [
    {
     "data": {
      "application/vnd.jupyter.widget-view+json": {
       "model_id": "4ac8006687f34daea328dd77328630b9",
       "version_major": 2,
       "version_minor": 0
      },
      "text/plain": [
       "interactive(children=(IntSlider(value=0, description='maxrounds', max=300, step=10), FloatSlider(value=0.0, de…"
      ]
     },
     "metadata": {},
     "output_type": "display_data"
    }
   ],
   "source": [
    "# Raffinamento del modello\n",
    "from ipywidgets import interact, IntSlider,FloatSlider\n",
    "\n",
    "def gradientdescend(maxrounds,maxerr):\n",
    "    A,B,err=0,0,np.inf\n",
    "    for i in range(maxrounds):\n",
    "\n",
    "        if err<maxerr:\n",
    "            break\n",
    "        \n",
    "        A,B,err = iterazione(A,B)\n",
    "    \n",
    "    plt.figure(figsize=(15, 10))\n",
    "    plt.grid(True)\n",
    "    plt.text(5,22,\"Errore: \"+ str(err))\n",
    "    plt.scatter(x, y)\n",
    "    plt.plot([min(x), max(x)], [A*min(x)+B, A*max(x)+B], color='red')  # regression line\n",
    "    return plt.gca()\n",
    "    \n",
    "    \n",
    "interact(gradientdescend,\n",
    "         maxrounds=IntSlider(min=0,max=300,step=10),\n",
    "         maxerr=FloatSlider(min=0,max=100.0,step=5.0));"
   ]
  },
  {
   "cell_type": "code",
   "execution_count": null,
   "metadata": {},
   "outputs": [],
   "source": []
  }
 ],
 "metadata": {
  "kernelspec": {
   "display_name": "Python 3",
   "language": "python",
   "name": "python3"
  },
  "language_info": {
   "codemirror_mode": {
    "name": "ipython",
    "version": 3
   },
   "file_extension": ".py",
   "mimetype": "text/x-python",
   "name": "python",
   "nbconvert_exporter": "python",
   "pygments_lexer": "ipython3",
   "version": "3.9.1"
  }
 },
 "nbformat": 4,
 "nbformat_minor": 2
}
