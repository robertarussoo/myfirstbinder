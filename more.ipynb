{
 "cells": [
  {
   "cell_type": "markdown",
   "id": "aae2541a",
   "metadata": {},
   "source": [
    "# Un esercizio di confronto di performance\n",
    "\n",
    "\n",
    "\n",
    "IPython e la sua interfaccia web Jupyter sono ambienti ideali per sperimentare interattivamente con del codice, analizzare dati, fare dei prototipi per dei programmi, e documentare idee. Vediamo un esempio: mostreremo la differenza di prestazioni tra un codice iterativo e uno ricorsivo per il calcolo della funzione di Fibonacci."
   ]
  },
  {
   "cell_type": "markdown",
   "id": "80b878f8",
   "metadata": {},
   "source": [
    "In Jupyter possiamo mettere all'inizio di una cella la stringa `%%file <nomefile>` ed il contenuto di questa cella non verrà eseguito, bensì salvato sul file corrispondente. Normalmente non è il caso di scrivere programmi lunghi o moduli python all'interno di una cella di un notebook Jupyter, tuttavia per questo esempio volevo che vedeste il codice per intero. Segue l'implementazione delle due versioni di Fibonacci.\n",
    "\n"
   ]
  },
  {
   "cell_type": "code",
   "execution_count": 1,
   "id": "86fa7d33",
   "metadata": {},
   "outputs": [
    {
     "name": "stdout",
     "output_type": "stream",
     "text": [
      "Overwriting fib.py\n"
     ]
    }
   ],
   "source": [
    "%%file fib.py\n",
    "\n",
    "def ifib(n):\n",
    "    if n<=0:\n",
    "        return 0\n",
    "    elif n==1:\n",
    "        return 1\n",
    "    \n",
    "    old, cur = 0,1\n",
    "    for i in range(2,n+1):\n",
    "        old , cur = cur, cur+old\n",
    "    return cur\n",
    "\n",
    "\n",
    "def rfib(n):\n",
    "    if n<=0:\n",
    "        return 0\n",
    "    elif n==1:\n",
    "        return 1\n",
    "    \n",
    "    return rfib(n-1)+rfib(n-2)\n",
    "\n",
    "\n",
    "\n",
    "if __name__ == '__main__':\n",
    "    print(\"Eseguito direttamente nel sorgente fib.py\")\n",
    "    print(\"Eseguo fib iterativo per n=100: \", end='')\n",
    "    print(ifib(100))\n",
    "    print(\"Eseguo fib ricorsivo per n=20: \", end='')\n",
    "    print(rfib(20))\n",
    "    "
   ]
  },
  {
   "cell_type": "code",
   "execution_count": 4,
   "id": "6ef7dc33",
   "metadata": {},
   "outputs": [
    {
     "name": "stdout",
     "output_type": "stream",
     "text": [
      "fib.py\r\n"
     ]
    }
   ],
   "source": [
    "!ls *.py"
   ]
  },
  {
   "cell_type": "markdown",
   "id": "34372036",
   "metadata": {},
   "source": [
    "## Eseguire un programma contenuto in un file esterno\n",
    "\n",
    "Il comando *magico* `%run <nomefile>` permette di eseguire un programma python contenuto in un file esterno. Essenzialmente è come se il programma venisse eseguito con il comando \n",
    "```\n",
    "$ python <nomefile>\n",
    "```\n",
    "\n",
    "con la differenza che tutte le funzioni, le variabili globali, e gli oggetti definiti dal programma restano a disposizione della sessione IPython."
   ]
  },
  {
   "cell_type": "code",
   "execution_count": 5,
   "id": "d45d2d77",
   "metadata": {},
   "outputs": [
    {
     "name": "stdout",
     "output_type": "stream",
     "text": [
      "Eseguito direttamente nel sorgente fib.py\n",
      "Eseguo fib iterativo per n=100: 354224848179261915075\n",
      "Eseguo fib ricorsivo per n=20: 6765\n"
     ]
    }
   ],
   "source": [
    "%run fib.py"
   ]
  },
  {
   "cell_type": "code",
   "execution_count": 6,
   "id": "7439ceb1",
   "metadata": {},
   "outputs": [
    {
     "data": {
      "text/plain": [
       "55"
      ]
     },
     "execution_count": 6,
     "metadata": {},
     "output_type": "execute_result"
    }
   ],
   "source": [
    "ifib(10)"
   ]
  },
  {
   "cell_type": "code",
   "execution_count": 7,
   "id": "e64067a0",
   "metadata": {},
   "outputs": [
    {
     "data": {
      "text/plain": [
       "55"
      ]
     },
     "execution_count": 7,
     "metadata": {},
     "output_type": "execute_result"
    }
   ],
   "source": [
    "rfib(10)"
   ]
  },
  {
   "cell_type": "markdown",
   "id": "70b151cf",
   "metadata": {},
   "source": [
    "Le funzioni `ifib` e `rfib` non erano presenti nella sessione IPython, e adesso sono presenti perché sono state create durante l'esecuzione di `fib.py`."
   ]
  },
  {
   "cell_type": "markdown",
   "id": "c6fd61e0",
   "metadata": {},
   "source": [
    "## Valutare il tempo di esecuzione di una funzione\n",
    "\n",
    "È possibile usare il comando magico `%timeit` per stimare il tempo di esecuzione di una espressione python. L'espressione viene eseguita numerose volte, in modo che la stima sia accurata."
   ]
  },
  {
   "cell_type": "code",
   "execution_count": 8,
   "id": "9bbb3ca6",
   "metadata": {},
   "outputs": [
    {
     "name": "stdout",
     "output_type": "stream",
     "text": [
      "4.55 µs ± 281 ns per loop (mean ± std. dev. of 7 runs, 100000 loops each)\n"
     ]
    }
   ],
   "source": [
    "%timeit ifib(100)"
   ]
  },
  {
   "cell_type": "code",
   "execution_count": 9,
   "id": "8d2b428b",
   "metadata": {},
   "outputs": [
    {
     "name": "stdout",
     "output_type": "stream",
     "text": [
      "2.14 ms ± 141 µs per loop (mean ± std. dev. of 7 runs, 100 loops each)\n"
     ]
    }
   ],
   "source": [
    "%timeit rfib(20)"
   ]
  },
  {
   "cell_type": "markdown",
   "id": "3c679fab",
   "metadata": {},
   "source": [
    "## Stima del tempo di esecuzione in python\n",
    "\n",
    "Adesso facciamo la stessa cosa usando una funzione python. La funzione eseguirà il programma 10 volte e restituirà il tempo medio di esecuzione. "
   ]
  },
  {
   "cell_type": "code",
   "execution_count": 10,
   "id": "bc847aa7",
   "metadata": {},
   "outputs": [],
   "source": [
    "import time\n",
    "\n",
    "def tempodiesecuzione(funzione,parametro,ripetizioni=10):\n",
    "\n",
    "    start_time = time.time()\n",
    "    \n",
    "    for i in range(ripetizioni):\n",
    "        funzione(parametro)\n",
    "    \n",
    "    end_time = time.time()\n",
    "    return (end_time - start_time) / ripetizioni\n"
   ]
  },
  {
   "cell_type": "markdown",
   "id": "43fee4d7",
   "metadata": {},
   "source": [
    "## Eseguiamo i calcoli per n da 1 a 40\n",
    "\n",
    "Stimiamo, per *n* da 1 a 40, i tempi di esecuzione di entrambe le espressioni `ifib(n)` e `rfib(n)`."
   ]
  },
  {
   "cell_type": "code",
   "execution_count": 12,
   "id": "602fd19e",
   "metadata": {},
   "outputs": [],
   "source": [
    "X = range(1,41)  # numeri da 1 a 40\n",
    "\n",
    "# Fibonacci iterativo\n",
    "I = []\n",
    "for n in X:\n",
    "    t = tempodiesecuzione(ifib,n)\n",
    "    I.append(t)\n",
    "    \n",
    "# Fibonacci ricorsivo\n",
    "R = []\n",
    "for n in X:\n",
    "    if n>34:\n",
    "        t = tempodiesecuzione(rfib,n,ripetizioni=1)\n",
    "    else:\n",
    "        t = tempodiesecuzione(rfib,n)\n",
    "    R.append(t)"
   ]
  },
  {
   "cell_type": "markdown",
   "id": "cd4c672c",
   "metadata": {},
   "source": [
    "## Plot dei dati appena ottenuti\n",
    "\n",
    "I dati ottenuti possiamo visualizzarli utilizzando diverse tecniche. Qui vediamo il classico grafico dove la dimensione dell'input è sull'asse $x$ e i tempi di esecuzione dei due programmi sono sull'asse $y$.\n",
    "\n",
    "Per fare questo plot utiliziamo la libreria `matplotlib`"
   ]
  },
  {
   "cell_type": "code",
   "execution_count": 13,
   "id": "5664ef44",
   "metadata": {},
   "outputs": [
    {
     "data": {
      "text/plain": [
       "<matplotlib.legend.Legend at 0x7f608f013c10>"
      ]
     },
     "execution_count": 13,
     "metadata": {},
     "output_type": "execute_result"
    },
    {
     "data": {
      "image/png": "[encoded data removed]",
      "text/plain": [
       "<Figure size 720x720 with 1 Axes>"
      ]
     },
     "metadata": {
      "needs_background": "light"
     },
     "output_type": "display_data"
    }
   ],
   "source": [
    "import matplotlib.pyplot as plt\n",
    "\n",
    "plt.figure(figsize=(10,10))\n",
    "plt.plot(X,R,label='Recursive')\n",
    "plt.plot(X,I,label='Iterative')\n",
    "plt.legend()\n"
   ]
  },
  {
   "cell_type": "markdown",
   "id": "8d4f1985",
   "metadata": {},
   "source": [
    "La versione ricorsiva ha un tempo di esecuzione che cresce molto più velocemente della versione iterativa.\n",
    "Possiamo scalare l'asse delle y in modo logaritmico, così da osservare meglio l'andamento."
   ]
  },
  {
   "cell_type": "code",
   "execution_count": 14,
   "id": "ad6050d2",
   "metadata": {},
   "outputs": [
    {
     "data": {
      "text/plain": [
       "<matplotlib.legend.Legend at 0x7f608ead8c70>"
      ]
     },
     "execution_count": 14,
     "metadata": {},
     "output_type": "execute_result"
    },
    {
     "data": {
      "image/png": "[encoded data removed]",
      "text/plain": [
       "<Figure size 720x720 with 1 Axes>"
      ]
     },
     "metadata": {
      "needs_background": "light"
     },
     "output_type": "display_data"
    }
   ],
   "source": [
    "plt.figure(figsize=(10,10))\n",
    "plt.plot(X,R,label='Recursive')\n",
    "plt.plot(X,I,label='Iterative')\n",
    "plt.yscale('log')\n",
    "plt.legend()\n"
   ]
  },
  {
   "cell_type": "markdown",
   "id": "d70611be",
   "metadata": {},
   "source": [
    "## Jupyter vs IPython\n",
    "\n",
    "Abbiamo lavorato sia in IPython che in Jupyter, e abbiamo visto che le operazioni possibili nei due ambienti sono molto simili. Questo non è sorprendente perché Jupyter nasce come interfaccia web per IPython. Vediamo le principali differenze tra i due ambienti:\n",
    "\n",
    "\n",
    "| |  IPython | Jupyter |\n",
    "--- | --- | --- \n",
    "sessione | singola | celle multiple\n",
    "plot | salvati su file | mostrati \"in linea\" \n",
    "salvataggio | nessuno | file notebook\n",
    "testo aggiuntivo| no|celle markdown\n",
    "esecuzione | singolo programma | servizio web"
   ]
  },
  {
   "cell_type": "code",
   "execution_count": null,
   "id": "democratic-learning",
   "metadata": {},
   "outputs": [],
   "source": []
  }
 ],
 "metadata": {
  "kernelspec": {
   "display_name": "Python 3",
   "language": "python",
   "name": "python3"
  },
  "language_info": {
   "codemirror_mode": {
    "name": "ipython",
    "version": 3
   },
   "file_extension": ".py",
   "mimetype": "text/x-python",
   "name": "python",
   "nbconvert_exporter": "python",
   "pygments_lexer": "ipython3",
   "version": "3.9.1"
  }
 },
 "nbformat": 4,
 "nbformat_minor": 5
}
